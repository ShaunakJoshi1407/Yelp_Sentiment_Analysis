{
 "cells": [
  {
   "cell_type": "markdown",
   "id": "35688222-9e87-4c74-88da-f172389dbb25",
   "metadata": {},
   "source": [
    "#### Name: Shaunak Hemant Joshi\n",
    "#### UIN: 934008405\n",
    "### Final Project"
   ]
  },
  {
   "cell_type": "code",
   "execution_count": 1,
   "id": "e86c689f-11c4-48c4-855f-93fbf5809e9e",
   "metadata": {},
   "outputs": [],
   "source": [
    "# Importing the required libraries\n",
    "import transformers \n",
    "from transformers import BertModel, BertTokenizer, AdamW, get_linear_schedule_with_warmup\n",
    "import torch\n",
    "import torch.nn as nn\n",
    "import numpy as np\n",
    "import seaborn as sns\n",
    "import pandas as pd\n",
    "import matplotlib.pyplot as plt"
   ]
  },
  {
   "cell_type": "code",
   "execution_count": 2,
   "id": "cb8c4243-b747-4558-9b62-4b7f177235f6",
   "metadata": {},
   "outputs": [],
   "source": [
    "# Load the Yelp review dataset\n",
    "train_dataset = pd.read_csv('yelp_review_train.csv')\n",
    "test_dataset = pd.read_csv('yelp_review_test.csv')"
   ]
  },
  {
   "cell_type": "code",
   "execution_count": 3,
   "id": "99b0d245-c76d-4a1f-8958-e3c041b33cba",
   "metadata": {},
   "outputs": [
    {
     "name": "stdout",
     "output_type": "stream",
     "text": [
      "                                                text  stars\n",
      "0  Went for lunch and found that my burger was me...    2.0\n",
      "1  I needed a new tires for my wife's car. They h...    5.0\n",
      "2  Jim Woltman who works at Goleta Honda is 5 sta...    5.0\n",
      "3  Been here a few times to get some shrimp.  The...    4.0\n",
      "4  This is one fantastic place to eat whether you...    5.0\n"
     ]
    }
   ],
   "source": [
    "print(train_dataset.head())"
   ]
  },
  {
   "cell_type": "code",
   "execution_count": 4,
   "id": "864a628a-76f7-4c39-aa76-c1e483c2ebfb",
   "metadata": {},
   "outputs": [
    {
     "data": {
      "text/html": [
       "<div>\n",
       "<style scoped>\n",
       "    .dataframe tbody tr th:only-of-type {\n",
       "        vertical-align: middle;\n",
       "    }\n",
       "\n",
       "    .dataframe tbody tr th {\n",
       "        vertical-align: top;\n",
       "    }\n",
       "\n",
       "    .dataframe thead th {\n",
       "        text-align: right;\n",
       "    }\n",
       "</style>\n",
       "<table border=\"1\" class=\"dataframe\">\n",
       "  <thead>\n",
       "    <tr style=\"text-align: right;\">\n",
       "      <th></th>\n",
       "      <th>text</th>\n",
       "      <th>stars</th>\n",
       "    </tr>\n",
       "  </thead>\n",
       "  <tbody>\n",
       "    <tr>\n",
       "      <th>0</th>\n",
       "      <td>Hidden treasure! Awesome service, delicious fo...</td>\n",
       "      <td>5.0</td>\n",
       "    </tr>\n",
       "    <tr>\n",
       "      <th>1</th>\n",
       "      <td>My family and I have been patients since I  wa...</td>\n",
       "      <td>5.0</td>\n",
       "    </tr>\n",
       "    <tr>\n",
       "      <th>2</th>\n",
       "      <td>I rarely get pedicures, but Blue Nail's practi...</td>\n",
       "      <td>5.0</td>\n",
       "    </tr>\n",
       "    <tr>\n",
       "      <th>3</th>\n",
       "      <td>We came with a large group, may of the items w...</td>\n",
       "      <td>2.0</td>\n",
       "    </tr>\n",
       "    <tr>\n",
       "      <th>4</th>\n",
       "      <td>The view is great from Morgan's Pier. The bart...</td>\n",
       "      <td>2.0</td>\n",
       "    </tr>\n",
       "  </tbody>\n",
       "</table>\n",
       "</div>"
      ],
      "text/plain": [
       "                                                text  stars\n",
       "0  Hidden treasure! Awesome service, delicious fo...    5.0\n",
       "1  My family and I have been patients since I  wa...    5.0\n",
       "2  I rarely get pedicures, but Blue Nail's practi...    5.0\n",
       "3  We came with a large group, may of the items w...    2.0\n",
       "4  The view is great from Morgan's Pier. The bart...    2.0"
      ]
     },
     "execution_count": 4,
     "metadata": {},
     "output_type": "execute_result"
    }
   ],
   "source": [
    "test_dataset.head()"
   ]
  },
  {
   "cell_type": "markdown",
   "id": "8cec02b6-4110-4901-973d-4e0e931064e7",
   "metadata": {},
   "source": [
    "### a) Data Preprocessing: Pre-process the data by removing the punctuation and stopwords and converting all words to lowercase. Moreover, converting the stars into three levels: Positive > 3, negative <= 2, and neutral = 3."
   ]
  },
  {
   "cell_type": "markdown",
   "id": "28d565a3-2318-49a8-b87c-b2f2c8e09ef0",
   "metadata": {},
   "source": [
    "#### This part of data preprocessing downloads the NLTK stopwords dataset and imports the stopwords module. Stopwords are common words (like \"the\", \"is\", \"and\", etc.) that are often removed during text preprocessing because they usually don't carry much meaningful information.\n",
    "\n",
    "#### This function, data_preprocess, takes a piece of text as input and performs the following operations: Converts the text to lowercase. Removes punctuation using a regular expression. Splits the text into a list of words. Removes English stopwords. Joins the remaining words back into a cleaned text.\n",
    "\n",
    "#### We then apply the data_preprocess function to the 'text' column of both the training (train_dataset) and testing (test_dataset) datasets. It updates the 'text' column with the preprocessed text.\n",
    "\n",
    "#### The function, categorize_stars, takes a star rating as input and categorizes it into three sentiment categories: 'Positive' for ratings greater than 3, 'Negative' for ratings less than or equal to 2, and 'Neutral' for ratings equal to 3.\n",
    "\n",
    "#### Then we apply the categorize_stars function to the 'stars' column of both the training and testing datasets. It creates a new 'sentiment' column in both datasets, storing the categorized sentiment labels ('Positive', 'Negative', 'Neutral') based on the star ratings."
   ]
  },
  {
   "cell_type": "code",
   "execution_count": 5,
   "id": "96100dc7-1b4f-457c-ba63-f51c64a66a40",
   "metadata": {},
   "outputs": [
    {
     "name": "stderr",
     "output_type": "stream",
     "text": [
      "[nltk_data] Downloading package stopwords to\n",
      "[nltk_data]     /home/shaunakjoshi/nltk_data...\n",
      "[nltk_data]   Package stopwords is already up-to-date!\n",
      "[nltk_data] Downloading package stopwords to\n",
      "[nltk_data]     /home/shaunakjoshi/nltk_data...\n",
      "[nltk_data]   Package stopwords is already up-to-date!\n"
     ]
    },
    {
     "data": {
      "image/png": "[encoded data removed]",
      "text/plain": [
       "<Figure size 640x480 with 1 Axes>"
      ]
     },
     "metadata": {},
     "output_type": "display_data"
    }
   ],
   "source": [
    "import nltk\n",
    "import re\n",
    "\n",
    "# This part downloads the NLTK stopwords dataset and imports the stopwords module. \n",
    "# Stopwords are common words (like \"the\", \"is\", \"and\", etc.) that are often removed during text preprocessing because they usually don't carry much meaningful information.\n",
    "nltk.download('stopwords')\n",
    "nltk.download('stopwords')\n",
    "from nltk.corpus import stopwords\n",
    "\n",
    "\n",
    "# Function to preprocess text\n",
    "def data_preprocess(text):\n",
    "    # Convert text to lowercase\n",
    "    text = text.lower()\n",
    "    \n",
    "    # Remove punctuation using regex\n",
    "    text = re.sub(r'[^\\w\\s]', '', text)\n",
    "    \n",
    "    # Split text into words\n",
    "    words = text.split()\n",
    "    \n",
    "    # Remove stopwords\n",
    "    stop_words = set(stopwords.words('english'))\n",
    "    words = [word for word in words if word not in stop_words]\n",
    "    \n",
    "    return ' '.join(words)\n",
    "\n",
    "# Apply preprocessing to the 'text' column\n",
    "train_dataset['text'] = train_dataset['text'].apply(data_preprocess)\n",
    "test_dataset['text'] = test_dataset['text'].apply(data_preprocess)\n",
    "\n",
    "\n",
    "# Categorize stars into positive, negative, neutral. # Categorize stars into positive, negative, neutral. 'Positive' for ratings > 3, 'Negative' for ratings less than or equal to 2, and 'Neutral' for ratings equal to 3. \n",
    "def categorize_stars(stars):\n",
    "    if stars > 3:\n",
    "        return 'Positive'\n",
    "        # return 1\n",
    "    elif stars <= 2:\n",
    "        return 'Negative'\n",
    "        # return 0\n",
    "    else:\n",
    "        return 'Neutral'\n",
    "        # return 2\n",
    "\n",
    "# Apply star categorization to the 'stars' column\n",
    "# It creates a new 'sentiment' column in both datasets, storing the categorized sentiment labels ('Positive', 'Negative', 'Neutral') based on the star ratings.\n",
    "train_dataset['sentiment'] = train_dataset['stars'].apply(categorize_stars)\n",
    "test_dataset['sentiment'] = test_dataset['stars'].apply(categorize_stars)\n",
    "\n",
    "# Sentiment Distribution\n",
    "sentiment_distribution = pd.Series(train_dataset['sentiment']).value_counts()\n",
    "sentiment_distribution.plot(kind='bar', title='Sentiment Distribution')\n",
    "plt.xlabel('Sentiment')\n",
    "plt.ylabel('Count')\n",
    "plt.show()"
   ]
  },
  {
   "cell_type": "code",
   "execution_count": 6,
   "id": "3057e050-c06e-4e9e-99ec-721b7d535d2d",
   "metadata": {},
   "outputs": [
    {
     "data": {
      "text/html": [
       "<div>\n",
       "<style scoped>\n",
       "    .dataframe tbody tr th:only-of-type {\n",
       "        vertical-align: middle;\n",
       "    }\n",
       "\n",
       "    .dataframe tbody tr th {\n",
       "        vertical-align: top;\n",
       "    }\n",
       "\n",
       "    .dataframe thead th {\n",
       "        text-align: right;\n",
       "    }\n",
       "</style>\n",
       "<table border=\"1\" class=\"dataframe\">\n",
       "  <thead>\n",
       "    <tr style=\"text-align: right;\">\n",
       "      <th></th>\n",
       "      <th>text</th>\n",
       "      <th>stars</th>\n",
       "      <th>sentiment</th>\n",
       "    </tr>\n",
       "  </thead>\n",
       "  <tbody>\n",
       "    <tr>\n",
       "      <th>0</th>\n",
       "      <td>went lunch found burger meh obvious focus burg...</td>\n",
       "      <td>2.0</td>\n",
       "      <td>Negative</td>\n",
       "    </tr>\n",
       "    <tr>\n",
       "      <th>1</th>\n",
       "      <td>needed new tires wifes car special order next ...</td>\n",
       "      <td>5.0</td>\n",
       "      <td>Positive</td>\n",
       "    </tr>\n",
       "    <tr>\n",
       "      <th>2</th>\n",
       "      <td>jim woltman works goleta honda 5 stars knowled...</td>\n",
       "      <td>5.0</td>\n",
       "      <td>Positive</td>\n",
       "    </tr>\n",
       "    <tr>\n",
       "      <th>3</th>\n",
       "      <td>times get shrimp theyve got nice selection dif...</td>\n",
       "      <td>4.0</td>\n",
       "      <td>Positive</td>\n",
       "    </tr>\n",
       "    <tr>\n",
       "      <th>4</th>\n",
       "      <td>one fantastic place eat whether hungry need go...</td>\n",
       "      <td>5.0</td>\n",
       "      <td>Positive</td>\n",
       "    </tr>\n",
       "  </tbody>\n",
       "</table>\n",
       "</div>"
      ],
      "text/plain": [
       "                                                text  stars sentiment\n",
       "0  went lunch found burger meh obvious focus burg...    2.0  Negative\n",
       "1  needed new tires wifes car special order next ...    5.0  Positive\n",
       "2  jim woltman works goleta honda 5 stars knowled...    5.0  Positive\n",
       "3  times get shrimp theyve got nice selection dif...    4.0  Positive\n",
       "4  one fantastic place eat whether hungry need go...    5.0  Positive"
      ]
     },
     "execution_count": 6,
     "metadata": {},
     "output_type": "execute_result"
    }
   ],
   "source": [
    "train_dataset.head()"
   ]
  },
  {
   "cell_type": "code",
   "execution_count": 7,
   "id": "7ab6b0eb-9694-4a09-a40c-46f6dacd5015",
   "metadata": {},
   "outputs": [
    {
     "data": {
      "text/html": [
       "<div>\n",
       "<style scoped>\n",
       "    .dataframe tbody tr th:only-of-type {\n",
       "        vertical-align: middle;\n",
       "    }\n",
       "\n",
       "    .dataframe tbody tr th {\n",
       "        vertical-align: top;\n",
       "    }\n",
       "\n",
       "    .dataframe thead th {\n",
       "        text-align: right;\n",
       "    }\n",
       "</style>\n",
       "<table border=\"1\" class=\"dataframe\">\n",
       "  <thead>\n",
       "    <tr style=\"text-align: right;\">\n",
       "      <th></th>\n",
       "      <th>text</th>\n",
       "      <th>stars</th>\n",
       "      <th>sentiment</th>\n",
       "    </tr>\n",
       "  </thead>\n",
       "  <tbody>\n",
       "    <tr>\n",
       "      <th>174752</th>\n",
       "      <td>oy great partially fault holy smokes daughter ...</td>\n",
       "      <td>2.0</td>\n",
       "      <td>Negative</td>\n",
       "    </tr>\n",
       "    <tr>\n",
       "      <th>174753</th>\n",
       "      <td>im huge fan chocolate maya high quality ingred...</td>\n",
       "      <td>5.0</td>\n",
       "      <td>Positive</td>\n",
       "    </tr>\n",
       "    <tr>\n",
       "      <th>174754</th>\n",
       "      <td>hosted wedding ceremony could happier everythi...</td>\n",
       "      <td>5.0</td>\n",
       "      <td>Positive</td>\n",
       "    </tr>\n",
       "    <tr>\n",
       "      <th>174755</th>\n",
       "      <td>love place fantastic lunch specials get 3 roll...</td>\n",
       "      <td>5.0</td>\n",
       "      <td>Positive</td>\n",
       "    </tr>\n",
       "    <tr>\n",
       "      <th>174756</th>\n",
       "      <td>happy service food one best tasting turkey bur...</td>\n",
       "      <td>5.0</td>\n",
       "      <td>Positive</td>\n",
       "    </tr>\n",
       "  </tbody>\n",
       "</table>\n",
       "</div>"
      ],
      "text/plain": [
       "                                                     text  stars sentiment\n",
       "174752  oy great partially fault holy smokes daughter ...    2.0  Negative\n",
       "174753  im huge fan chocolate maya high quality ingred...    5.0  Positive\n",
       "174754  hosted wedding ceremony could happier everythi...    5.0  Positive\n",
       "174755  love place fantastic lunch specials get 3 roll...    5.0  Positive\n",
       "174756  happy service food one best tasting turkey bur...    5.0  Positive"
      ]
     },
     "execution_count": 7,
     "metadata": {},
     "output_type": "execute_result"
    }
   ],
   "source": [
    "train_dataset.tail()"
   ]
  },
  {
   "cell_type": "code",
   "execution_count": 8,
   "id": "37db4bc9-28a3-4f65-a8b2-f384695ca7dd",
   "metadata": {},
   "outputs": [
    {
     "data": {
      "text/html": [
       "<div>\n",
       "<style scoped>\n",
       "    .dataframe tbody tr th:only-of-type {\n",
       "        vertical-align: middle;\n",
       "    }\n",
       "\n",
       "    .dataframe tbody tr th {\n",
       "        vertical-align: top;\n",
       "    }\n",
       "\n",
       "    .dataframe thead th {\n",
       "        text-align: right;\n",
       "    }\n",
       "</style>\n",
       "<table border=\"1\" class=\"dataframe\">\n",
       "  <thead>\n",
       "    <tr style=\"text-align: right;\">\n",
       "      <th></th>\n",
       "      <th>text</th>\n",
       "      <th>stars</th>\n",
       "      <th>sentiment</th>\n",
       "    </tr>\n",
       "  </thead>\n",
       "  <tbody>\n",
       "    <tr>\n",
       "      <th>0</th>\n",
       "      <td>hidden treasure awesome service delicious food...</td>\n",
       "      <td>5.0</td>\n",
       "      <td>Positive</td>\n",
       "    </tr>\n",
       "    <tr>\n",
       "      <th>1</th>\n",
       "      <td>family patients since 5 years old 34 trust qua...</td>\n",
       "      <td>5.0</td>\n",
       "      <td>Positive</td>\n",
       "    </tr>\n",
       "    <tr>\n",
       "      <th>2</th>\n",
       "      <td>rarely get pedicures blue nails practice combi...</td>\n",
       "      <td>5.0</td>\n",
       "      <td>Positive</td>\n",
       "    </tr>\n",
       "    <tr>\n",
       "      <th>3</th>\n",
       "      <td>came large group may items missing menu lobste...</td>\n",
       "      <td>2.0</td>\n",
       "      <td>Negative</td>\n",
       "    </tr>\n",
       "    <tr>\n",
       "      <th>4</th>\n",
       "      <td>view great morgans pier bartenders even good s...</td>\n",
       "      <td>2.0</td>\n",
       "      <td>Negative</td>\n",
       "    </tr>\n",
       "  </tbody>\n",
       "</table>\n",
       "</div>"
      ],
      "text/plain": [
       "                                                text  stars sentiment\n",
       "0  hidden treasure awesome service delicious food...    5.0  Positive\n",
       "1  family patients since 5 years old 34 trust qua...    5.0  Positive\n",
       "2  rarely get pedicures blue nails practice combi...    5.0  Positive\n",
       "3  came large group may items missing menu lobste...    2.0  Negative\n",
       "4  view great morgans pier bartenders even good s...    2.0  Negative"
      ]
     },
     "execution_count": 8,
     "metadata": {},
     "output_type": "execute_result"
    }
   ],
   "source": [
    "test_dataset.head()"
   ]
  },
  {
   "cell_type": "code",
   "execution_count": 9,
   "id": "f1c56870-b22e-4eeb-b200-7327ee681079",
   "metadata": {},
   "outputs": [],
   "source": [
    "train_dataset.drop(columns='stars', inplace=True)\n",
    "test_dataset.drop(columns='stars', inplace=True)"
   ]
  },
  {
   "cell_type": "code",
   "execution_count": 10,
   "id": "9e0a1a0b-6ed9-481a-a0a6-8cbf56983a4f",
   "metadata": {},
   "outputs": [],
   "source": [
    "class_levels = ['Negative', 'Neutral', 'Positive']"
   ]
  },
  {
   "cell_type": "code",
   "execution_count": 11,
   "id": "ed72950f-1e8a-4591-b466-8cdd7961d6f3",
   "metadata": {},
   "outputs": [],
   "source": [
    "# Mapping dictionary for sentiment labels\n",
    "sentiment_labels = {'Positive': 2, 'Negative': 0, 'Neutral': 1}\n",
    "\n",
    "# Convert sentiment column to integers based on the mapping\n",
    "train_dataset['sentiment'] = train_dataset['sentiment'].map(sentiment_labels)\n",
    "test_dataset['sentiment'] = test_dataset['sentiment'].map(sentiment_labels)"
   ]
  },
  {
   "cell_type": "code",
   "execution_count": 12,
   "id": "6267548f-b828-4432-ac60-08ea63fc7eae",
   "metadata": {},
   "outputs": [
    {
     "data": {
      "text/html": [
       "<div>\n",
       "<style scoped>\n",
       "    .dataframe tbody tr th:only-of-type {\n",
       "        vertical-align: middle;\n",
       "    }\n",
       "\n",
       "    .dataframe tbody tr th {\n",
       "        vertical-align: top;\n",
       "    }\n",
       "\n",
       "    .dataframe thead th {\n",
       "        text-align: right;\n",
       "    }\n",
       "</style>\n",
       "<table border=\"1\" class=\"dataframe\">\n",
       "  <thead>\n",
       "    <tr style=\"text-align: right;\">\n",
       "      <th></th>\n",
       "      <th>text</th>\n",
       "      <th>sentiment</th>\n",
       "    </tr>\n",
       "  </thead>\n",
       "  <tbody>\n",
       "    <tr>\n",
       "      <th>0</th>\n",
       "      <td>went lunch found burger meh obvious focus burg...</td>\n",
       "      <td>0</td>\n",
       "    </tr>\n",
       "    <tr>\n",
       "      <th>1</th>\n",
       "      <td>needed new tires wifes car special order next ...</td>\n",
       "      <td>2</td>\n",
       "    </tr>\n",
       "    <tr>\n",
       "      <th>2</th>\n",
       "      <td>jim woltman works goleta honda 5 stars knowled...</td>\n",
       "      <td>2</td>\n",
       "    </tr>\n",
       "    <tr>\n",
       "      <th>3</th>\n",
       "      <td>times get shrimp theyve got nice selection dif...</td>\n",
       "      <td>2</td>\n",
       "    </tr>\n",
       "    <tr>\n",
       "      <th>4</th>\n",
       "      <td>one fantastic place eat whether hungry need go...</td>\n",
       "      <td>2</td>\n",
       "    </tr>\n",
       "  </tbody>\n",
       "</table>\n",
       "</div>"
      ],
      "text/plain": [
       "                                                text  sentiment\n",
       "0  went lunch found burger meh obvious focus burg...          0\n",
       "1  needed new tires wifes car special order next ...          2\n",
       "2  jim woltman works goleta honda 5 stars knowled...          2\n",
       "3  times get shrimp theyve got nice selection dif...          2\n",
       "4  one fantastic place eat whether hungry need go...          2"
      ]
     },
     "execution_count": 12,
     "metadata": {},
     "output_type": "execute_result"
    }
   ],
   "source": [
    "train_dataset.head()"
   ]
  },
  {
   "cell_type": "code",
   "execution_count": 13,
   "id": "86ea02b7-a353-47aa-882c-a771a325b5dd",
   "metadata": {},
   "outputs": [
    {
     "data": {
      "text/html": [
       "<div>\n",
       "<style scoped>\n",
       "    .dataframe tbody tr th:only-of-type {\n",
       "        vertical-align: middle;\n",
       "    }\n",
       "\n",
       "    .dataframe tbody tr th {\n",
       "        vertical-align: top;\n",
       "    }\n",
       "\n",
       "    .dataframe thead th {\n",
       "        text-align: right;\n",
       "    }\n",
       "</style>\n",
       "<table border=\"1\" class=\"dataframe\">\n",
       "  <thead>\n",
       "    <tr style=\"text-align: right;\">\n",
       "      <th></th>\n",
       "      <th>text</th>\n",
       "      <th>sentiment</th>\n",
       "    </tr>\n",
       "  </thead>\n",
       "  <tbody>\n",
       "    <tr>\n",
       "      <th>0</th>\n",
       "      <td>hidden treasure awesome service delicious food...</td>\n",
       "      <td>2</td>\n",
       "    </tr>\n",
       "    <tr>\n",
       "      <th>1</th>\n",
       "      <td>family patients since 5 years old 34 trust qua...</td>\n",
       "      <td>2</td>\n",
       "    </tr>\n",
       "    <tr>\n",
       "      <th>2</th>\n",
       "      <td>rarely get pedicures blue nails practice combi...</td>\n",
       "      <td>2</td>\n",
       "    </tr>\n",
       "    <tr>\n",
       "      <th>3</th>\n",
       "      <td>came large group may items missing menu lobste...</td>\n",
       "      <td>0</td>\n",
       "    </tr>\n",
       "    <tr>\n",
       "      <th>4</th>\n",
       "      <td>view great morgans pier bartenders even good s...</td>\n",
       "      <td>0</td>\n",
       "    </tr>\n",
       "  </tbody>\n",
       "</table>\n",
       "</div>"
      ],
      "text/plain": [
       "                                                text  sentiment\n",
       "0  hidden treasure awesome service delicious food...          2\n",
       "1  family patients since 5 years old 34 trust qua...          2\n",
       "2  rarely get pedicures blue nails practice combi...          2\n",
       "3  came large group may items missing menu lobste...          0\n",
       "4  view great morgans pier bartenders even good s...          0"
      ]
     },
     "execution_count": 13,
     "metadata": {},
     "output_type": "execute_result"
    }
   ],
   "source": [
    "test_dataset.head()"
   ]
  },
  {
   "cell_type": "markdown",
   "id": "776f9308-3fb6-4d90-8212-54756016b81d",
   "metadata": {},
   "source": [
    "### b) Input data preparation: The input of the Transformer model is a fixed length review sequence where integer numbers represent words. In this part, you need to build vocabulary for the dataset and pad the review data to a fixed length."
   ]
  },
  {
   "cell_type": "code",
   "execution_count": 14,
   "id": "286a3df1-e53b-4a10-8898-ee626a26c5c4",
   "metadata": {},
   "outputs": [],
   "source": [
    "device = torch.device(\"cuda:0\" if torch.cuda.is_available() else \"cpu\")"
   ]
  },
  {
   "cell_type": "code",
   "execution_count": 15,
   "id": "aa7a4e18-4e58-4135-b6ea-1ce7319af2a2",
   "metadata": {},
   "outputs": [
    {
     "data": {
      "text/plain": [
       "device(type='cuda', index=0)"
      ]
     },
     "execution_count": 15,
     "metadata": {},
     "output_type": "execute_result"
    }
   ],
   "source": [
    "device"
   ]
  },
  {
   "cell_type": "markdown",
   "id": "3dd76caa-81af-416a-a659-26be9b307646",
   "metadata": {},
   "source": [
    "#### The BertTokenizer class is part of the Hugging Face transformers library and is used to tokenize and preprocess text in a way that is compatible with BERT models. It breaks down the input text into subword tokens, adds special tokens (like [CLS] for the start of a sequence and [SEP] for the separation of segments), and converts the tokens into corresponding numerical IDs that can be fed into the BERT model."
   ]
  },
  {
   "cell_type": "code",
   "execution_count": 16,
   "id": "21d77080-e670-4b21-9f47-160494236249",
   "metadata": {},
   "outputs": [],
   "source": [
    "PRE_TRAINED_MODEL_NAME = 'bert-base-uncased'"
   ]
  },
  {
   "cell_type": "code",
   "execution_count": 17,
   "id": "c8471d81-98c1-453b-982b-786e43966ed3",
   "metadata": {},
   "outputs": [],
   "source": [
    "tokenizer = BertTokenizer.from_pretrained(PRE_TRAINED_MODEL_NAME)"
   ]
  },
  {
   "cell_type": "markdown",
   "id": "ab290149-62f9-4e6b-9d2a-a735de02f25c",
   "metadata": {},
   "source": [
    "#### The function calculate_token_lengths takes a dataset and the BERT tokenizer as input, and for each text in the dataset, it encodes the text using the tokenizer. The resulting tokens are then used to calculate the length, and the lengths are stored in a list. \n",
    "\n",
    "#### This process is part of the data preparation step for using BERT-based models. It helps to analyze the distribution of token lengths in the text data and determine an appropriate maximum sequence length for padding or truncation. The BERT tokenizer is used to convert text into tokenized sequences, and the resulting token lengths are visualized to gain insights into the dataset's characteristics."
   ]
  },
  {
   "cell_type": "code",
   "execution_count": 18,
   "id": "339ca70d-eb44-4811-8f6c-841f0db5a820",
   "metadata": {},
   "outputs": [
    {
     "name": "stderr",
     "output_type": "stream",
     "text": [
      "  0%|          | 0/174757 [00:00<?, ?it/s]Truncation was not explicitly activated but `max_length` is provided a specific value, please use `truncation=True` to explicitly truncate examples to max length. Defaulting to 'longest_first' truncation strategy. If you encode pairs of sequences (GLUE-style) with the tokenizer you can select this strategy more precisely by providing a specific strategy to `truncation`.\n",
      "100%|██████████| 174757/174757 [04:40<00:00, 623.08it/s]\n"
     ]
    },
    {
     "data": {
      "image/png": "[encoded data removed]",
      "text/plain": [
       "<Figure size 1000x600 with 1 Axes>"
      ]
     },
     "metadata": {},
     "output_type": "display_data"
    }
   ],
   "source": [
    "from tqdm import tqdm\n",
    "\n",
    "# Function to calculate token lengths for a given dataset and tokenizer\n",
    "def calculate_token_lengths(dataset, tokenizer, max_length=512):\n",
    "    token_lengths = []\n",
    "    for text in tqdm(dataset.text):\n",
    "        tokens = tokenizer.encode(text, max_length=max_length)\n",
    "        token_lengths.append(len(tokens))\n",
    "    return token_lengths\n",
    "\n",
    "# Calculate token lengths for the training dataset using the tokenizer\n",
    "train_token_lengths = calculate_token_lengths(train_dataset, tokenizer)\n",
    "\n",
    "# Calculate the median token length\n",
    "median_token_length = np.median(train_token_lengths)\n",
    "\n",
    "# Plot the token length distribution\n",
    "plt.figure(figsize=(10, 6))\n",
    "sns.histplot(train_token_lengths, bins=30, kde=False, color='blue', edgecolor='black')\n",
    "plt.title('Token Length Distribution for Training Dataset')\n",
    "plt.xlabel('Token Length')\n",
    "plt.ylabel('Frequency')\n",
    "\n",
    "# Display the median on the plot\n",
    "plt.axvline(median_token_length, color='red', linestyle='dashed', linewidth=2, label=f'Median: {median_token_length:.2f}')\n",
    "plt.legend()\n",
    "\n",
    "plt.show()"
   ]
  },
  {
   "cell_type": "code",
   "execution_count": 19,
   "id": "d03a0fc5-9b7a-476c-8aea-91585b8d6d8d",
   "metadata": {},
   "outputs": [
    {
     "name": "stdout",
     "output_type": "stream",
     "text": [
      "Mean Token Length: 64.83\n"
     ]
    }
   ],
   "source": [
    "# Calculate the mean token length\n",
    "mean_token_length = np.mean(train_token_lengths)\n",
    "\n",
    "# Print the mean\n",
    "print(f'Mean Token Length: {mean_token_length:.2f}')"
   ]
  },
  {
   "cell_type": "code",
   "execution_count": 20,
   "id": "e49a1ee8-1486-4bcc-8de8-a3d84d1e2873",
   "metadata": {},
   "outputs": [],
   "source": [
    "MAX_LEN = 120"
   ]
  },
  {
   "cell_type": "markdown",
   "id": "259d51d9-c00c-4d9a-9db1-13a6148e92de",
   "metadata": {},
   "source": [
    "### c) Transformer implementation: Implement a Transformer model which is composed of an encoder network (i.e., multi-head self-attention layers) and a prediction head mapping the hidden representation of input sequence into the label space (i.e., three classes)"
   ]
  },
  {
   "cell_type": "markdown",
   "id": "8e581aaf-ecf1-4911-a325-3686bb87b13e",
   "metadata": {},
   "source": [
    "##### This method retrieves a specific sample from the dataset. It tokenizes the review text using the BERT tokenizer (self.tokenizer.encode_plus). The tokenization includes adding special tokens, limiting the maximum length (max_length), and returning attention masks. The resulting encoded information is returned as a dictionary containing:\n",
    "\n",
    "\n",
    "##### 'review_text': The original review text as a string.\n",
    "##### 'input_ids': Flattened tensor of input IDs representing the tokenized and padded review text.\n",
    "##### 'attention_mask': Flattened tensor representing the attention mask to indicate which tokens are actual words and which are padding tokens.\n",
    "##### 'targets': Tensor containing the target labels converted to a PyTorch tensor of type torch.long.\n"
   ]
  },
  {
   "cell_type": "code",
   "execution_count": 21,
   "id": "49a58d49-7793-49a6-aeba-35ea81f54d9b",
   "metadata": {},
   "outputs": [],
   "source": [
    "from torch.utils.data import Dataset, DataLoader\n",
    "class ReviewDataset(Dataset):\n",
    "    def __init__(self,text,targets,tokenizer,max_len):\n",
    "        self.text = text\n",
    "        self.targets = targets\n",
    "        self.tokenizer = tokenizer\n",
    "        self.max_len = max_len\n",
    "\n",
    "    def __len__(self):\n",
    "        return len(self.text)\n",
    "\n",
    "    def __getitem__(self,item):\n",
    "        review = str(self.text[item])\n",
    "        target = self.targets[item]\n",
    "\n",
    "        encoding = self.tokenizer.encode_plus(\n",
    "            review,\n",
    "            add_special_tokens=True,\n",
    "            max_length=self.max_len,\n",
    "            return_token_type_ids=False,\n",
    "            padding='max_length',\n",
    "            truncation=True,\n",
    "            return_attention_mask=True,\n",
    "            return_tensors='pt'\n",
    "            )\n",
    "        \n",
    "        return {\n",
    "            'review_text': review,\n",
    "            'input_ids': encoding['input_ids'].flatten(),\n",
    "            'attention_mask': encoding['attention_mask'].flatten(),\n",
    "            'targets': torch.tensor(target, dtype=torch.long)\n",
    "            }"
   ]
  },
  {
   "cell_type": "markdown",
   "id": "5cb1cfbb-ba1a-49f8-b65d-af12f69bf563",
   "metadata": {},
   "source": [
    "#### Train Test dataset split"
   ]
  },
  {
   "cell_type": "code",
   "execution_count": 22,
   "id": "5cee1d66-da88-4978-ada9-ee54084a5045",
   "metadata": {},
   "outputs": [],
   "source": [
    "from sklearn.model_selection import train_test_split\n",
    "df_trainset, df_valset = train_test_split(train_dataset, test_size=0.2, random_state=42)\n",
    "df_testset = test_dataset"
   ]
  },
  {
   "cell_type": "code",
   "execution_count": 23,
   "id": "16f1e8d6-d519-4bd8-b3b9-6855b3418220",
   "metadata": {},
   "outputs": [
    {
     "data": {
      "text/plain": [
       "((139805, 2), (34952, 2), (13980, 2))"
      ]
     },
     "execution_count": 23,
     "metadata": {},
     "output_type": "execute_result"
    }
   ],
   "source": [
    "df_trainset.shape, df_valset.shape, df_testset.shape"
   ]
  },
  {
   "cell_type": "markdown",
   "id": "7e925c64-6a03-47f9-8b9e-cc2d2469fe01",
   "metadata": {},
   "source": [
    "#### The provided function create_data_loader creates a PyTorch DataLoader for a given DataFrame df containing text and sentiment data. It uses the ReviewDataset defined earlier to handle the tokenization and formatting of the data for BERT-based models"
   ]
  },
  {
   "cell_type": "code",
   "execution_count": 24,
   "id": "eab18741-6d6b-43cf-ae24-cff7e57607fe",
   "metadata": {},
   "outputs": [],
   "source": [
    "def create_data_loader(df,tokenizer,max_len,batch_size):\n",
    "    ds = ReviewDataset(\n",
    "        text = df.text.to_numpy(), \n",
    "        targets = df.sentiment.to_numpy(),\n",
    "        tokenizer = tokenizer,\n",
    "        max_len=max_len)\n",
    "    \n",
    "    return DataLoader(ds,\n",
    "                      batch_size=batch_size,\n",
    "                      num_workers=4)"
   ]
  },
  {
   "cell_type": "code",
   "execution_count": 25,
   "id": "0ea61fde-7c89-4071-aa61-4661eccf02ec",
   "metadata": {},
   "outputs": [],
   "source": [
    "BATCH_SIZE = 32\n",
    "train_data_loader = create_data_loader(df_trainset, tokenizer, MAX_LEN, BATCH_SIZE)\n",
    "val_data_loader = create_data_loader(df_valset, tokenizer, MAX_LEN, BATCH_SIZE)\n",
    "test_data_loader = create_data_loader(df_testset, tokenizer, MAX_LEN, BATCH_SIZE)"
   ]
  },
  {
   "cell_type": "code",
   "execution_count": 26,
   "id": "3229c8e4-6506-4b58-8a76-1892653bd313",
   "metadata": {},
   "outputs": [],
   "source": [
    "bertModel = BertModel.from_pretrained(PRE_TRAINED_MODEL_NAME, return_dict=False)"
   ]
  },
  {
   "cell_type": "markdown",
   "id": "b5860ebc-fd7b-446a-8e86-c62dcafa58c9",
   "metadata": {},
   "source": [
    "#### c i) Model-1\n",
    "#### To the pretrained bert model, there is an addition of dropout layers for regularization, linear layers for dimensionality reduction, ReLU activation for non-linearity, and a final linear layer for sentiment classification. The optimizer used here is SGD with learning rate = 0.005 . The model is trained here for 5 epochs. The dropouts used here are 0.4 and 0.3. We are adding another layer to our fully connected network to bring down the number of layers from 128 to 64 in the final layer."
   ]
  },
  {
   "cell_type": "code",
   "execution_count": 27,
   "id": "52193c90-2a0b-46b5-99c1-486e9a4f6f9e",
   "metadata": {},
   "outputs": [],
   "source": [
    "class SentimentClassifier(nn.Module):\n",
    "  def __init__(self, n_classes):\n",
    "    super(SentimentClassifier, self).__init__()\n",
    "    self.bert = bertModel\n",
    "    self.drop = nn.Dropout(p=0.4)\n",
    "    self.out1 = nn.Linear(self.bert.config.hidden_size, 128)\n",
    "    self.drop1 = nn.Dropout(p=0.3)\n",
    "    self.relu = nn.ReLU()\n",
    "    self.out2 = nn.Linear(128, 64)\n",
    "    self.out = nn.Linear(64, n_classes)\n",
    "  \n",
    "  def forward(self, input_ids, attention_mask):\n",
    "    _, pooled_output = self.bert(\n",
    "      input_ids=input_ids,\n",
    "      attention_mask=attention_mask\n",
    "    )\n",
    "\n",
    "    output = self.drop(pooled_output)\n",
    "    output = self.out1(output)\n",
    "    output = self.relu(output)\n",
    "    output = self.drop1(output)\n",
    "    output = self.out2(output)\n",
    "    output = self.relu(output)\n",
    "    return self.out(output)"
   ]
  },
  {
   "cell_type": "code",
   "execution_count": 28,
   "id": "f7962ca5-293f-4e03-a1ea-07c209041c09",
   "metadata": {},
   "outputs": [],
   "source": [
    "from torch.optim import SGD\n",
    "\n",
    "model = SentimentClassifier(len(class_levels))\n",
    "model = model.to(device)\n",
    "\n",
    "EPOCHS = 5\n",
    "\n",
    "optimizer = SGD(model.parameters(), lr=0.005, weight_decay=0)\n",
    "\n",
    "total_steps = len(train_data_loader) * EPOCHS\n",
    "\n",
    "scheduler = get_linear_schedule_with_warmup(\n",
    "  optimizer,\n",
    "  num_warmup_steps=0,\n",
    "  num_training_steps=total_steps\n",
    ")\n",
    "\n",
    "loss_fn = nn.CrossEntropyLoss().to(device)\n",
    "\n",
    "# This function is designed to perform one training epoch for a PyTorch model using a specified data loader, updating its parameters based on the training data\n",
    "def train_epoch(model,data_loader,loss_fn,optimizer,device,scheduler,n_examples):\n",
    "    \n",
    "    # This line sets the PyTorch model to training mode. This is necessary because certain layers like dropout behave differently during training and evaluation.\n",
    "    model = model.train()\n",
    "    losses = []\n",
    "    correct_predictions = 0\n",
    "\n",
    "    for data in data_loader:\n",
    "        input_ids = data['input_ids'].to(device)\n",
    "        attention_mask = data['attention_mask'].to(device)\n",
    "        targets = data['targets'].to(device)\n",
    "\n",
    "        # This line performs a forward pass through the model, obtaining predictions for the given input.\n",
    "        outputs = model(\n",
    "            input_ids=input_ids,\n",
    "            attention_mask=attention_mask\n",
    "            )\n",
    "        _, preds = torch.max(outputs, dim=1)\n",
    "        # This line computes the loss between the model's predictions and the actual targets using the specified loss function\n",
    "        loss = loss_fn(outputs,targets)\n",
    "\n",
    "        correct_predictions += torch.sum(preds == targets)\n",
    "        losses.append(loss.item())\n",
    "\n",
    "        # This line computes gradients of the loss with respect to the model parameters.\n",
    "        loss.backward()\n",
    "        #  Clips the gradients to prevent exploding gradients.\n",
    "        nn.utils.clip_grad_norm_(model.parameters(), max_norm=1.0)\n",
    "        optimizer.step()\n",
    "        scheduler.step()\n",
    "        optimizer.zero_grad()\n",
    "\n",
    "    return correct_predictions.double() / n_examples, np.mean(losses)\n",
    "\n",
    "# This function is designed to evaluate a PyTorch model on a validation or test set using a specified data loader\n",
    "def eval_model(model, data_loader, loss_fn, device, n_examples):\n",
    "  # This line sets the PyTorch model to evaluation mode. In this mode, layers like dropout behave differently than during training.\n",
    "  model = model.eval()\n",
    "  losses = []\n",
    "  correct_predictions = 0\n",
    "  with torch.no_grad():\n",
    "    for d in data_loader:\n",
    "      input_ids = d[\"input_ids\"].to(device)\n",
    "      attention_mask = d[\"attention_mask\"].to(device)\n",
    "      targets = d[\"targets\"].to(device)\n",
    "        \n",
    "      # This line performs a forward pass through the model to obtain predictions for the given input\n",
    "      outputs = model(\n",
    "        input_ids=input_ids,\n",
    "        attention_mask=attention_mask\n",
    "      )\n",
    "    \n",
    "      _, preds = torch.max(outputs, dim=1)\n",
    "      loss = loss_fn(outputs, targets)\n",
    "      # Counts the number of correct predictions for accuracy calculation.\n",
    "      correct_predictions += torch.sum(preds == targets)\n",
    "      # Appends the current batch's loss to the list of losses.\n",
    "      losses.append(loss.item())\n",
    "\n",
    "  # Calculates the evaluation accuracy and average loss based on the accumulated statistics.\n",
    "  return correct_predictions.double() / n_examples, np.mean(losses)"
   ]
  },
  {
   "cell_type": "markdown",
   "id": "6d4f6f20-c246-4f2b-8abe-25b87f64d482",
   "metadata": {},
   "source": [
    "### d i) Model-1 training \n",
    "#### Train the model with stochastic gradient descent using mini- batch fashion based on the ‘yelp review train.csv’ dataset. Print the training curve, where the x- axis is the training epochs, and the y-axis is the training accuracy."
   ]
  },
  {
   "cell_type": "code",
   "execution_count": 30,
   "id": "38dfe63f-7959-44f2-bdf2-f64bc8c4d40a",
   "metadata": {},
   "outputs": [
    {
     "name": "stdout",
     "output_type": "stream",
     "text": [
      "Epoch 1/5\n",
      "----------\n",
      "Train loss 0.39610402174012616 accuracy 0.8514359286148564\n",
      "Val loss 0.3762947191490237 accuracy 0.856202792401007\n",
      "\n",
      "Epoch 2/5\n",
      "----------\n",
      "Train loss 0.377721537662592 accuracy 0.857429991774257\n",
      "Val loss 0.3708295297194596 accuracy 0.8571183337148088\n",
      "\n",
      "Epoch 3/5\n",
      "----------\n",
      "Train loss 0.36825308789477573 accuracy 0.8597832695540216\n",
      "Val loss 0.3660908210136453 accuracy 0.8595788509956512\n",
      "\n",
      "Epoch 4/5\n",
      "----------\n",
      "Train loss 0.36286698802487066 accuracy 0.8618647401738135\n",
      "Val loss 0.36297980859902945 accuracy 0.8622396429388877\n",
      "\n",
      "Epoch 5/5\n",
      "----------\n",
      "Train loss 0.36126807267918526 accuracy 0.8622438396337756\n",
      "Val loss 0.36297980859902945 accuracy 0.8622396429388877\n",
      "\n"
     ]
    }
   ],
   "source": [
    "from collections import defaultdict\n",
    "history = defaultdict(list)\n",
    "best_accuracy = 0\n",
    "model_index = 1\n",
    "\n",
    "# New dictionary to store the best validation accuracy along with model index\n",
    "best_val_history = {'best_val_accuracy': 0, 'best_model_index': 0}\n",
    "\n",
    "\n",
    "for epoch in range(EPOCHS):\n",
    "    print(f'Epoch {epoch + 1}/{EPOCHS}')\n",
    "    print('-' * 10)\n",
    "    train_acc, train_loss = train_epoch(\n",
    "        model,\n",
    "        train_data_loader,\n",
    "        loss_fn,\n",
    "        optimizer,\n",
    "        device,\n",
    "        scheduler,\n",
    "        len(df_trainset)\n",
    "    )\n",
    "    print(f'Train loss {train_loss} accuracy {train_acc}')\n",
    "    val_acc, val_loss = eval_model(\n",
    "        model,\n",
    "        val_data_loader,\n",
    "        loss_fn,\n",
    "        device,\n",
    "        len(df_valset)\n",
    "    )\n",
    "    \n",
    "    print(f'Val loss {val_loss} accuracy {val_acc}')\n",
    "    \n",
    "    print()\n",
    "    history['train_acc'].append(train_acc)\n",
    "    history['train_loss'].append(train_loss)\n",
    "    history['val_acc'].append(val_acc)\n",
    "    history['val_loss'].append(val_loss)\n",
    "    \n",
    "    if val_acc > best_accuracy:\n",
    "        torch.save({\n",
    "            'epoch': epoch,\n",
    "            'model_state_dict': model.state_dict(),\n",
    "            'best_accuracy': val_acc,\n",
    "            'best_model_index': model_index,\n",
    "            }, 'best_model.pt')\n",
    "        best_accuracy = val_acc\n",
    "        best_model_index = model_index\n",
    "\n",
    "# Update the new dictionary with the best validation accuracy and model index\n",
    "best_val_history['best_val_accuracy'] = best_accuracy\n",
    "best_val_history['best_model_index'] = best_model_index"
   ]
  },
  {
   "cell_type": "markdown",
   "id": "d5df25b6-fcce-451f-abfd-382fe2295b8c",
   "metadata": {},
   "source": [
    "#### Plotting Training vs Validation Loss"
   ]
  },
  {
   "cell_type": "code",
   "execution_count": 31,
   "id": "8ef91334-4e38-429d-a391-27516ee05068",
   "metadata": {},
   "outputs": [
    {
     "data": {
      "text/plain": [
       "<matplotlib.legend.Legend at 0x2b1816652d60>"
      ]
     },
     "execution_count": 31,
     "metadata": {},
     "output_type": "execute_result"
    },
    {
     "data": {
      "image/png": "[encoded data removed]",
      "text/plain": [
       "<Figure size 1000x600 with 1 Axes>"
      ]
     },
     "metadata": {},
     "output_type": "display_data"
    }
   ],
   "source": [
    "plt.figure(figsize=(10, 6))\n",
    "plt.plot(history['train_loss'], label='train loss')\n",
    "plt.plot(history['val_loss'], label='validation loss')\n",
    "plt.title('Training vs Validation loss')\n",
    "plt.ylabel('Loss')\n",
    "plt.xlabel('Epoch')\n",
    "plt.legend()"
   ]
  },
  {
   "cell_type": "markdown",
   "id": "5d842abc-f8b1-42f0-9519-9818a81b30ab",
   "metadata": {},
   "source": [
    "#### Plotting Training vs Validation Accuracy"
   ]
  },
  {
   "cell_type": "code",
   "execution_count": 32,
   "id": "15a5c147-679e-43fd-98c1-7e9c4f4b3a02",
   "metadata": {},
   "outputs": [
    {
     "data": {
      "text/plain": [
       "<matplotlib.legend.Legend at 0x2b181bee6c40>"
      ]
     },
     "execution_count": 32,
     "metadata": {},
     "output_type": "execute_result"
    },
    {
     "data": {
      "image/png": "[encoded data removed]",
      "text/plain": [
       "<Figure size 640x480 with 1 Axes>"
      ]
     },
     "metadata": {},
     "output_type": "display_data"
    }
   ],
   "source": [
    "train_acc_cpu = [acc.item() for acc in history['train_acc']]\n",
    "val_acc_cpu = [acc.item() for acc in history['val_acc']]\n",
    "\n",
    "plt.plot(train_acc_cpu, label='train acc')\n",
    "plt.plot(val_acc_cpu, label='validation acc')\n",
    "plt.title('Training vs Validation accuracy')\n",
    "plt.ylabel('Accuracy')\n",
    "plt.xlabel('Epoch')\n",
    "plt.legend()"
   ]
  },
  {
   "cell_type": "markdown",
   "id": "d0020b39-d38f-4fc9-8f1b-349fbb23812f",
   "metadata": {},
   "source": [
    "#### c ii) Model-2\n",
    "#### To the pretrained bert model, there is an addition of dropout layers for regularization, linear layers for dimensionality reduction, ReLU activation for non-linearity, and a final linear layer for sentiment classification. The optimizer used here is SGD with learning rate = 0.005 . The model is trained here for 5 epochs. The dropouts used here are 0.4 and 0.4. "
   ]
  },
  {
   "cell_type": "code",
   "execution_count": 33,
   "id": "1c4f00c2-4634-4bb8-87cd-1bf732165f9e",
   "metadata": {},
   "outputs": [],
   "source": [
    "class SentimentClassifier2(nn.Module):\n",
    "  def __init__(self, n_classes):\n",
    "    super(SentimentClassifier2, self).__init__()\n",
    "    self.bert = bertModel\n",
    "    self.drop = nn.Dropout(p=0.4)\n",
    "    self.out1 = nn.Linear(self.bert.config.hidden_size, 128)\n",
    "    self.drop1 = nn.Dropout(p=0.4)\n",
    "    self.relu = nn.ReLU()\n",
    "    self.out = nn.Linear(128, n_classes)\n",
    "  \n",
    "  def forward(self, input_ids, attention_mask):\n",
    "    _, pooled_output = self.bert(\n",
    "      input_ids=input_ids,\n",
    "      attention_mask=attention_mask\n",
    "    )\n",
    "\n",
    "    output = self.drop(pooled_output)\n",
    "    output = self.out1(output)\n",
    "    output = self.relu(output)\n",
    "    output = self.drop1(output)\n",
    "    return self.out(output)"
   ]
  },
  {
   "cell_type": "code",
   "execution_count": 34,
   "id": "1f7fd4fc-e3ca-4731-8067-8f6f453afac2",
   "metadata": {},
   "outputs": [],
   "source": [
    "from torch.optim import SGD\n",
    "\n",
    "model2 = SentimentClassifier2(len(class_levels))\n",
    "model2 = model2.to(device)\n",
    "\n",
    "EPOCHS = 5\n",
    "\n",
    "optimizer = SGD(model2.parameters(), lr=0.005, weight_decay=0)\n",
    "\n",
    "total_steps = len(train_data_loader) * EPOCHS\n",
    "\n",
    "scheduler = get_linear_schedule_with_warmup(\n",
    "  optimizer,\n",
    "  num_warmup_steps=0,\n",
    "  num_training_steps=total_steps\n",
    ")\n",
    "\n",
    "loss_fn = nn.CrossEntropyLoss().to(device)\n",
    "\n",
    "# This function is designed to perform one training epoch for a PyTorch model using a specified data loader, updating its parameters based on the training data\n",
    "def train_epoch(model2,data_loader,loss_fn,optimizer,device,scheduler,n_examples):\n",
    "    \n",
    "    # This line sets the PyTorch model to training mode. This is necessary because certain layers like dropout behave differently during training and evaluation.\n",
    "    model2 = model2.train()\n",
    "    losses = []\n",
    "    correct_predictions = 0\n",
    "\n",
    "    for data in data_loader:\n",
    "        input_ids = data['input_ids'].to(device)\n",
    "        attention_mask = data['attention_mask'].to(device)\n",
    "        targets = data['targets'].to(device)\n",
    "\n",
    "        # This line performs a forward pass through the model, obtaining predictions for the given input.\n",
    "        outputs = model2(\n",
    "            input_ids=input_ids,\n",
    "            attention_mask=attention_mask\n",
    "            )\n",
    "        _, preds = torch.max(outputs, dim=1)\n",
    "        # This line computes the loss between the model's predictions and the actual targets using the specified loss function\n",
    "        loss = loss_fn(outputs,targets)\n",
    "\n",
    "        correct_predictions += torch.sum(preds == targets)\n",
    "        losses.append(loss.item())\n",
    "\n",
    "        # This line computes gradients of the loss with respect to the model parameters.\n",
    "        loss.backward()\n",
    "        #  Clips the gradients to prevent exploding gradients.\n",
    "        nn.utils.clip_grad_norm_(model2.parameters(), max_norm=1.0)\n",
    "        optimizer.step()\n",
    "        scheduler.step()\n",
    "        optimizer.zero_grad()\n",
    "\n",
    "    return correct_predictions.double() / n_examples, np.mean(losses)\n",
    "\n",
    "# This function is designed to evaluate a PyTorch model on a validation or test set using a specified data loader\n",
    "def eval_model(model2, data_loader, loss_fn, device, n_examples):\n",
    "  # This line sets the PyTorch model to evaluation mode. In this mode, layers like dropout behave differently than during training.\n",
    "  model2 = model2.eval()\n",
    "  losses = []\n",
    "  correct_predictions = 0\n",
    "  with torch.no_grad():\n",
    "    for d in data_loader:\n",
    "      input_ids = d[\"input_ids\"].to(device)\n",
    "      attention_mask = d[\"attention_mask\"].to(device)\n",
    "      targets = d[\"targets\"].to(device)\n",
    "        \n",
    "      # This line performs a forward pass through the model to obtain predictions for the given input\n",
    "      outputs = model2(\n",
    "        input_ids=input_ids,\n",
    "        attention_mask=attention_mask\n",
    "      )\n",
    "    \n",
    "      _, preds = torch.max(outputs, dim=1)\n",
    "      loss = loss_fn(outputs, targets)\n",
    "      # Counts the number of correct predictions for accuracy calculation.\n",
    "      correct_predictions += torch.sum(preds == targets)\n",
    "      # Appends the current batch's loss to the list of losses.\n",
    "      losses.append(loss.item())\n",
    "\n",
    "  # Calculates the evaluation accuracy and average loss based on the accumulated statistics.\n",
    "  return correct_predictions.double() / n_examples, np.mean(losses)"
   ]
  },
  {
   "cell_type": "markdown",
   "id": "0554ea26-97fd-4133-9e04-08fe6b00fc9e",
   "metadata": {},
   "source": [
    "### d ii) Model-2 training \n",
    "#### Train the model with stochastic gradient descent using mini- batch fashion based on the ‘yelp review train.csv’ dataset. Print the training curve, where the x- axis is the training epochs, and the y-axis is the training accuracy."
   ]
  },
  {
   "cell_type": "code",
   "execution_count": 35,
   "id": "b14becb9-9357-4ed7-9fcf-4b14199eb116",
   "metadata": {},
   "outputs": [
    {
     "name": "stdout",
     "output_type": "stream",
     "text": [
      "Epoch 1/5\n",
      "----------\n",
      "Train loss 0.3823702155266441 accuracy 0.8586531239941347\n",
      "Val loss 0.363386516930486 accuracy 0.8594071869993134\n",
      "\n",
      "Epoch 2/5\n",
      "----------\n",
      "Train loss 0.3559201801181672 accuracy 0.8669647008333036\n",
      "Val loss 0.3516561152227734 accuracy 0.8638704509040971\n",
      "\n",
      "Epoch 3/5\n",
      "----------\n",
      "Train loss 0.3435151423396904 accuracy 0.8715782697328421\n",
      "Val loss 0.3486428332190419 accuracy 0.8656157015335317\n",
      "\n",
      "Epoch 4/5\n",
      "----------\n",
      "Train loss 0.3377003139662958 accuracy 0.8739458531526054\n",
      "Val loss 0.340726037440721 accuracy 0.8687628747997254\n",
      "\n",
      "Epoch 5/5\n",
      "----------\n",
      "Train loss 0.33278722785588916 accuracy 0.875090304352491\n",
      "Val loss 0.33967796105922143 accuracy 0.8710803387502861\n",
      "\n"
     ]
    }
   ],
   "source": [
    "from collections import defaultdict\n",
    "history2 = defaultdict(list)\n",
    "best_accuracy = 0\n",
    "model_index = 2\n",
    "\n",
    "# New dictionary to store the best validation accuracy along with model index\n",
    "best_val_history = {'best_val_accuracy': 0, 'best_model_index': 0}\n",
    "\n",
    "\n",
    "for epoch in range(EPOCHS):\n",
    "    print(f'Epoch {epoch + 1}/{EPOCHS}')\n",
    "    print('-' * 10)\n",
    "    train_acc, train_loss = train_epoch(\n",
    "        model2,\n",
    "        train_data_loader,\n",
    "        loss_fn,\n",
    "        optimizer,\n",
    "        device,\n",
    "        scheduler,\n",
    "        len(df_trainset)\n",
    "    )\n",
    "    print(f'Train loss {train_loss} accuracy {train_acc}')\n",
    "    val_acc, val_loss = eval_model(\n",
    "        model2,\n",
    "        val_data_loader,\n",
    "        loss_fn,\n",
    "        device,\n",
    "        len(df_valset)\n",
    "    )\n",
    "    \n",
    "    print(f'Val loss {val_loss} accuracy {val_acc}')\n",
    "    \n",
    "    print()\n",
    "    history2['train_acc'].append(train_acc)\n",
    "    history2['train_loss'].append(train_loss)\n",
    "    history2['val_acc'].append(val_acc)\n",
    "    history2['val_loss'].append(val_loss)\n",
    "    \n",
    "    if val_acc > best_accuracy:\n",
    "        torch.save({\n",
    "            'epoch': epoch,\n",
    "            'model_state_dict': model2.state_dict(),\n",
    "            'best_accuracy': val_acc,\n",
    "            'best_model_index': model_index,\n",
    "            }, 'best_model.pt')\n",
    "        best_accuracy = val_acc\n",
    "        best_model_index = model_index\n",
    "\n",
    "# Update the new dictionary with the best validation accuracy and model index\n",
    "best_val_history['best_val_accuracy'] = best_accuracy\n",
    "best_val_history['best_model_index'] = best_model_index"
   ]
  },
  {
   "cell_type": "markdown",
   "id": "29829c33-d5aa-4b58-9f5c-bc91f6d46bf7",
   "metadata": {},
   "source": [
    "#### Plotting Training vs Validation Loss"
   ]
  },
  {
   "cell_type": "code",
   "execution_count": 36,
   "id": "ef7ac7d1-fcf8-4b90-8820-1759ee264dd6",
   "metadata": {},
   "outputs": [
    {
     "data": {
      "text/plain": [
       "<matplotlib.legend.Legend at 0x2b1827c956d0>"
      ]
     },
     "execution_count": 36,
     "metadata": {},
     "output_type": "execute_result"
    },
    {
     "data": {
      "image/png": "[encoded data removed]",
      "text/plain": [
       "<Figure size 1000x600 with 1 Axes>"
      ]
     },
     "metadata": {},
     "output_type": "display_data"
    }
   ],
   "source": [
    "plt.figure(figsize=(10, 6))\n",
    "plt.plot(history2['train_loss'], label='train loss')\n",
    "plt.plot(history2['val_loss'], label='validation loss')\n",
    "plt.title('Training vs Validation loss')\n",
    "plt.ylabel('Loss')\n",
    "plt.xlabel('Epoch')\n",
    "plt.legend()"
   ]
  },
  {
   "cell_type": "markdown",
   "id": "4d455345-f945-4e3a-a019-531452012d4c",
   "metadata": {},
   "source": [
    "#### Plotting Training vs Validation Accuracy"
   ]
  },
  {
   "cell_type": "code",
   "execution_count": 37,
   "id": "c1a0d357-0c4c-44b4-9fb1-0f8ab4ac2993",
   "metadata": {},
   "outputs": [
    {
     "data": {
      "text/plain": [
       "<matplotlib.legend.Legend at 0x2b1827cad880>"
      ]
     },
     "execution_count": 37,
     "metadata": {},
     "output_type": "execute_result"
    },
    {
     "data": {
      "image/png": "[encoded data removed]",
      "text/plain": [
       "<Figure size 640x480 with 1 Axes>"
      ]
     },
     "metadata": {},
     "output_type": "display_data"
    }
   ],
   "source": [
    "train_acc_cpu = [acc.item() for acc in history2['train_acc']]\n",
    "val_acc_cpu = [acc.item() for acc in history2['val_acc']]\n",
    "\n",
    "plt.plot(train_acc_cpu, label='train acc')\n",
    "plt.plot(val_acc_cpu, label='validation acc')\n",
    "plt.title('Training vs Validation accuracy')\n",
    "plt.ylabel('Accuracy')\n",
    "plt.xlabel('Epoch')\n",
    "plt.legend()"
   ]
  },
  {
   "cell_type": "markdown",
   "id": "e1cf98e6-6dbd-495c-af19-777c7bb4e98d",
   "metadata": {},
   "source": [
    "### c iii) Model-3\n",
    "#### To the pretrained bert model, there is an addition of dropout layers for regularization, the dropouts used here are 0.4 and 0.3,  linear layers for dimensionality reduction, ReLU activation for non-linearity, and a final linear layer for sentiment classification. The optimizer used here is SGD with learning rate = 0.001. The model is trained here for 5 epochs."
   ]
  },
  {
   "cell_type": "code",
   "execution_count": 38,
   "id": "8952276b-d917-4a31-b529-098f62166bd9",
   "metadata": {},
   "outputs": [],
   "source": [
    "class SentimentClassifier3(nn.Module):\n",
    "  def __init__(self, n_classes):\n",
    "    super(SentimentClassifier3, self).__init__()\n",
    "    self.bert = bertModel\n",
    "    self.drop = nn.Dropout(p=0.4)\n",
    "    self.out1 = nn.Linear(self.bert.config.hidden_size, 128)\n",
    "    self.drop1 = nn.Dropout(p=0.3)\n",
    "    self.relu = nn.ReLU()\n",
    "    self.out = nn.Linear(128, n_classes)\n",
    "  \n",
    "  def forward(self, input_ids, attention_mask):\n",
    "    _, pooled_output = self.bert(\n",
    "      input_ids=input_ids,\n",
    "      attention_mask=attention_mask\n",
    "    )\n",
    "\n",
    "    output = self.drop(pooled_output)\n",
    "    output = self.out1(output)\n",
    "    output = self.relu(output)\n",
    "    output = self.drop1(output)\n",
    "    return self.out(output)"
   ]
  },
  {
   "cell_type": "code",
   "execution_count": 39,
   "id": "bb479e2d-fde5-4995-b4b8-d8b0804d83f8",
   "metadata": {},
   "outputs": [],
   "source": [
    "from torch.optim import SGD\n",
    "\n",
    "model3 = SentimentClassifier3(len(class_levels))\n",
    "model3 = model3.to(device)\n",
    "\n",
    "EPOCHS = 5\n",
    "\n",
    "optimizer = SGD(model3.parameters(), lr=0.001, weight_decay=0)\n",
    "\n",
    "total_steps = len(train_data_loader) * EPOCHS\n",
    "\n",
    "scheduler = get_linear_schedule_with_warmup(\n",
    "  optimizer,\n",
    "  num_warmup_steps=0,\n",
    "  num_training_steps=total_steps\n",
    ")\n",
    "\n",
    "loss_fn = nn.CrossEntropyLoss().to(device)\n",
    "\n",
    "# This function is designed to perform one training epoch for a PyTorch model using a specified data loader, updating its parameters based on the training data\n",
    "def train_epoch(model3,data_loader,loss_fn,optimizer,device,scheduler,n_examples):\n",
    "    # This line sets the PyTorch model to training mode. This is necessary because certain layers like dropout behave differently during training and evaluation.\n",
    "    model3 = model3.train()\n",
    "    losses = []\n",
    "    correct_predictions = 0\n",
    "\n",
    "    for data in data_loader:\n",
    "        input_ids = data['input_ids'].to(device)\n",
    "        attention_mask = data['attention_mask'].to(device)\n",
    "        targets = data['targets'].to(device)\n",
    "\n",
    "        # This line performs a forward pass through the model, obtaining predictions for the given input.\n",
    "        outputs = model3(\n",
    "            input_ids=input_ids,\n",
    "            attention_mask=attention_mask\n",
    "            )\n",
    "        _, preds = torch.max(outputs, dim=1)\n",
    "        # This line computes the loss between the model's predictions and the actual targets using the specified loss function\n",
    "        loss = loss_fn(outputs,targets)\n",
    "\n",
    "        correct_predictions += torch.sum(preds == targets)\n",
    "        losses.append(loss.item())\n",
    "\n",
    "        # This line computes gradients of the loss with respect to the model parameters.\n",
    "        loss.backward()\n",
    "        #  Clips the gradients to prevent exploding gradients.\n",
    "        nn.utils.clip_grad_norm_(model3.parameters(), max_norm=1.0)\n",
    "        optimizer.step()\n",
    "        scheduler.step()\n",
    "        optimizer.zero_grad()\n",
    "\n",
    "    return correct_predictions.double() / n_examples, np.mean(losses)\n",
    "\n",
    "# This function is designed to evaluate a PyTorch model on a validation or test set using a specified data loader\n",
    "def eval_model(model3, data_loader, loss_fn, device, n_examples):\n",
    "  # This line sets the PyTorch model to evaluation mode. In this mode, layers like dropout behave differently than during training.\n",
    "  model3 = model3.eval()\n",
    "  losses = []\n",
    "  correct_predictions = 0\n",
    "\n",
    "    \n",
    "  with torch.no_grad():\n",
    "    for d in data_loader:\n",
    "      input_ids = d[\"input_ids\"].to(device)\n",
    "      attention_mask = d[\"attention_mask\"].to(device)\n",
    "      targets = d[\"targets\"].to(device)\n",
    "      # This line performs a forward pass through the model to obtain predictions for the given input\n",
    "      outputs = model3(\n",
    "        input_ids=input_ids,\n",
    "        attention_mask=attention_mask\n",
    "      )\n",
    "      _, preds = torch.max(outputs, dim=1)\n",
    "      loss = loss_fn(outputs, targets)\n",
    "      # Counts the number of correct predictions for accuracy calculation.\n",
    "      correct_predictions += torch.sum(preds == targets)\n",
    "      # Appends the current batch's loss to the list of losses.\n",
    "      losses.append(loss.item())\n",
    "\n",
    "  # Calculates the evaluation accuracy and average loss based on the accumulated statistics.      \n",
    "  return correct_predictions.double() / n_examples, np.mean(losses)"
   ]
  },
  {
   "cell_type": "markdown",
   "id": "3d6e2ce0-e2a5-4dfa-bb4b-175fff92280c",
   "metadata": {},
   "source": [
    "#### d iii) Model-3 training \n",
    "#### Train the model with stochastic gradient descent using mini- batch fashion based on the ‘yelp review train.csv’ dataset. Print the training curve, where the x-axis is the training epochs, and the y-axis is the training accuracy."
   ]
  },
  {
   "cell_type": "code",
   "execution_count": 40,
   "id": "2141a9fe-997c-4f02-b1ee-8f81c8444e8c",
   "metadata": {},
   "outputs": [
    {
     "name": "stdout",
     "output_type": "stream",
     "text": [
      "Epoch 1/5\n",
      "----------\n",
      "Train loss 0.40128869368677883 accuracy 0.8558849826544115\n",
      "Val loss 0.34923267143131775 accuracy 0.8681334401464866\n",
      "\n",
      "Epoch 2/5\n",
      "----------\n",
      "Train loss 0.3401237375536304 accuracy 0.8742033546725797\n",
      "Val loss 0.34679084455752907 accuracy 0.8683909361409934\n",
      "\n",
      "Epoch 3/5\n",
      "----------\n",
      "Train loss 0.33546736641002756 accuracy 0.8755981545724402\n",
      "Val loss 0.34282503290014976 accuracy 0.8701647974364843\n",
      "\n",
      "Epoch 4/5\n",
      "----------\n",
      "Train loss 0.33281356081346075 accuracy 0.8756410714924359\n",
      "Val loss 0.3414506952483667 accuracy 0.87050812542916\n",
      "\n",
      "Epoch 5/5\n",
      "----------\n",
      "Train loss 0.3311893307235331 accuracy 0.8765780909123422\n",
      "Val loss 0.3416526038727952 accuracy 0.8720817120622568\n",
      "\n"
     ]
    }
   ],
   "source": [
    "from collections import defaultdict\n",
    "history3 = defaultdict(list)\n",
    "model_index=3\n",
    "\n",
    "for epoch in range(EPOCHS):\n",
    "    print(f'Epoch {epoch + 1}/{EPOCHS}')\n",
    "    print('-' * 10)\n",
    "    train_acc, train_loss = train_epoch(\n",
    "        model3,\n",
    "        train_data_loader,\n",
    "        loss_fn,\n",
    "        optimizer,\n",
    "        device,\n",
    "        scheduler,\n",
    "        len(df_trainset)\n",
    "    )\n",
    "    print(f'Train loss {train_loss} accuracy {train_acc}')\n",
    "    val_acc, val_loss = eval_model(\n",
    "        model3,\n",
    "        val_data_loader,\n",
    "        loss_fn,\n",
    "        device,\n",
    "        len(df_valset)\n",
    "    )\n",
    "    \n",
    "    print(f'Val loss {val_loss} accuracy {val_acc}')\n",
    "    \n",
    "    print()\n",
    "    history3['train_acc'].append(train_acc)\n",
    "    history3['train_loss'].append(train_loss)\n",
    "    history3['val_acc'].append(val_acc)\n",
    "    history3['val_loss'].append(val_loss)\n",
    "    \n",
    "    if val_acc > best_accuracy:\n",
    "        torch.save({\n",
    "            'epoch': epoch,\n",
    "            'model_state_dict': model3.state_dict(),\n",
    "            'best_accuracy': val_acc,\n",
    "            'best_model_index': model_index,\n",
    "            }, 'best_model.pt')\n",
    "        best_accuracy = val_acc\n",
    "        best_model_index = model_index\n",
    "\n",
    "# Update the new dictionary with the best validation accuracy and model index\n",
    "best_val_history['best_val_accuracy'] = best_accuracy\n",
    "best_val_history['best_model_index'] = best_model_index"
   ]
  },
  {
   "cell_type": "markdown",
   "id": "e7b0ef8a-8815-40d7-b21f-c9d7d9f54d3a",
   "metadata": {},
   "source": [
    "#### Plotting Training vs Validation Loss"
   ]
  },
  {
   "cell_type": "code",
   "execution_count": 41,
   "id": "9d02d914-6b46-48c7-9284-07f02cae8bee",
   "metadata": {},
   "outputs": [
    {
     "data": {
      "text/plain": [
       "<matplotlib.legend.Legend at 0x2b1815bf9130>"
      ]
     },
     "execution_count": 41,
     "metadata": {},
     "output_type": "execute_result"
    },
    {
     "data": {
      "image/png": "[encoded data removed]",
      "text/plain": [
       "<Figure size 1000x600 with 1 Axes>"
      ]
     },
     "metadata": {},
     "output_type": "display_data"
    }
   ],
   "source": [
    "plt.figure(figsize=(10, 6))\n",
    "plt.plot(history3['train_loss'], label='train loss')\n",
    "plt.plot(history3['val_loss'], label='validation loss')\n",
    "plt.title('Training vs Validation Loss')\n",
    "plt.ylabel('Loss')\n",
    "plt.xlabel('Epoch')\n",
    "plt.legend()"
   ]
  },
  {
   "cell_type": "markdown",
   "id": "83f12ba1-2f2f-4d66-8288-6e1c1bc1533a",
   "metadata": {},
   "source": [
    "#### Plotting Training vs Validation Accuracy"
   ]
  },
  {
   "cell_type": "code",
   "execution_count": 42,
   "id": "92b73ef1-b19c-4cb0-a875-a43bbd097236",
   "metadata": {},
   "outputs": [
    {
     "data": {
      "text/plain": [
       "<matplotlib.legend.Legend at 0x2b181bfc3af0>"
      ]
     },
     "execution_count": 42,
     "metadata": {},
     "output_type": "execute_result"
    },
    {
     "data": {
      "image/png": "[encoded data removed]",
      "text/plain": [
       "<Figure size 640x480 with 1 Axes>"
      ]
     },
     "metadata": {},
     "output_type": "display_data"
    }
   ],
   "source": [
    "train_acc_cpu = [acc.item() for acc in history3['train_acc']]\n",
    "val_acc_cpu = [acc.item() for acc in history3['val_acc']]\n",
    "\n",
    "plt.plot(train_acc_cpu, label='train acc')\n",
    "plt.plot(val_acc_cpu, label='validation acc')\n",
    "plt.title('Training vs Validation accuracy')\n",
    "plt.ylabel('Accuracy')\n",
    "plt.xlabel('Epoch')\n",
    "plt.legend()"
   ]
  },
  {
   "cell_type": "code",
   "execution_count": 43,
   "id": "7576c21d-9358-4012-8c15-6dc87df3f8b0",
   "metadata": {},
   "outputs": [
    {
     "name": "stdout",
     "output_type": "stream",
     "text": [
      "tensor(0.8721, device='cuda:0', dtype=torch.float64)\n"
     ]
    }
   ],
   "source": [
    "print(best_accuracy)"
   ]
  },
  {
   "cell_type": "markdown",
   "id": "2473430a-f800-4509-9fe1-aed745acdc97",
   "metadata": {},
   "source": [
    "Validation accuracy for the best model is 87.21%."
   ]
  },
  {
   "cell_type": "code",
   "execution_count": 44,
   "id": "58ab2ab0-12c8-44bb-873e-f600de71d0c1",
   "metadata": {},
   "outputs": [
    {
     "name": "stdout",
     "output_type": "stream",
     "text": [
      "3\n"
     ]
    }
   ],
   "source": [
    "print(best_model_index)"
   ]
  },
  {
   "cell_type": "markdown",
   "id": "5aaf6094-2ef8-4759-b5c9-a462d9cf8502",
   "metadata": {},
   "source": [
    "The best model was the 3rd model as it was the one that has the highest validation accuracy and we will be calculating the test accuracy on this model."
   ]
  },
  {
   "cell_type": "markdown",
   "id": "fb7d543c-9df5-4806-8e13-89a8de445852",
   "metadata": {},
   "source": [
    "Here, we have tested three different combinations of the model with a pretrained bert base uncased model and adding additional fully connected layers to this pretrained bert model.\n",
    "\n",
    "In the first combination, the optimizer we have used is SGD with learning rate = 0.005 . The model is trained here for 5 epochs. The dropouts used here are 0.4 and 0.3. We are adding another layer to our fully connected network to bring down the number of layers from 128 to 64 in the final layer. From this model, we can notice that the max validation accuracy comes out to be 86% and the training/validation loss comes down to 0.36. \n",
    "\n",
    "In the second combination, the optimizer we have used is SGD with learning rate = 0.005 . The model is trained here for 5 epochs. The dropouts used here are 0.4 and 0.4. Here, the final layer comes out to be 128. From this model, we can notice that the max validation accuracy comes out to be 87% and the training/validation loss comes down to 0.33. Here, we can notice that the model is performing slightly better than the first model as we have reduced the complexity of the model by reducing the number of fully connected layers. This gives us a better result than the first model.\n",
    "\n",
    "In the third combination, the optimizer we have used here is SGD with learning rate = 0.001. The model is trained here for 5 epochs. The dropouts used here are 0.4 and 0.3. From this model, we can notice that the max validation accuracy comes out to be 87.2% and the training/validation loss comes down to 0.34. This model is performing similar to the second model we have but is giving more accurate predicitons on the training and validation dataset. This might be due to reducing the learning rate to 0.001 and a smaller dropout. This might help the model to work on more features in the training dataset and thus perform better on the validation dataset."
   ]
  },
  {
   "cell_type": "markdown",
   "id": "21aeaa08-8896-438e-93cf-27a3941eb632",
   "metadata": {},
   "source": [
    "### e) Result analysis: Load the best model saved during training and report the accuracy of the model on the test set (i.e., ‘yelp review test.csv’). What are the impacts of hyper- parameters, such as the hidden dimension and the number of attention layers, on the Transformer? "
   ]
  },
  {
   "cell_type": "markdown",
   "id": "2756b938-ee8a-4f07-8b7e-52c5d7b23c37",
   "metadata": {},
   "source": [
    "Here, we are loading our best model from a checkpoint file, initializing a new instance of the model architecture, loading the  weights into the new model, and moving the model to the specified device for further use"
   ]
  },
  {
   "cell_type": "code",
   "execution_count": 47,
   "id": "641ee9e8-2374-45e2-9d0e-ba38ad9cf028",
   "metadata": {},
   "outputs": [
    {
     "data": {
      "text/plain": [
       "SentimentClassifier3(\n",
       "  (bert): BertModel(\n",
       "    (embeddings): BertEmbeddings(\n",
       "      (word_embeddings): Embedding(30522, 768, padding_idx=0)\n",
       "      (position_embeddings): Embedding(512, 768)\n",
       "      (token_type_embeddings): Embedding(2, 768)\n",
       "      (LayerNorm): LayerNorm((768,), eps=1e-12, elementwise_affine=True)\n",
       "      (dropout): Dropout(p=0.1, inplace=False)\n",
       "    )\n",
       "    (encoder): BertEncoder(\n",
       "      (layer): ModuleList(\n",
       "        (0-11): 12 x BertLayer(\n",
       "          (attention): BertAttention(\n",
       "            (self): BertSelfAttention(\n",
       "              (query): Linear(in_features=768, out_features=768, bias=True)\n",
       "              (key): Linear(in_features=768, out_features=768, bias=True)\n",
       "              (value): Linear(in_features=768, out_features=768, bias=True)\n",
       "              (dropout): Dropout(p=0.1, inplace=False)\n",
       "            )\n",
       "            (output): BertSelfOutput(\n",
       "              (dense): Linear(in_features=768, out_features=768, bias=True)\n",
       "              (LayerNorm): LayerNorm((768,), eps=1e-12, elementwise_affine=True)\n",
       "              (dropout): Dropout(p=0.1, inplace=False)\n",
       "            )\n",
       "          )\n",
       "          (intermediate): BertIntermediate(\n",
       "            (dense): Linear(in_features=768, out_features=3072, bias=True)\n",
       "            (intermediate_act_fn): GELUActivation()\n",
       "          )\n",
       "          (output): BertOutput(\n",
       "            (dense): Linear(in_features=3072, out_features=768, bias=True)\n",
       "            (LayerNorm): LayerNorm((768,), eps=1e-12, elementwise_affine=True)\n",
       "            (dropout): Dropout(p=0.1, inplace=False)\n",
       "          )\n",
       "        )\n",
       "      )\n",
       "    )\n",
       "    (pooler): BertPooler(\n",
       "      (dense): Linear(in_features=768, out_features=768, bias=True)\n",
       "      (activation): Tanh()\n",
       "    )\n",
       "  )\n",
       "  (drop): Dropout(p=0.4, inplace=False)\n",
       "  (out1): Linear(in_features=768, out_features=128, bias=True)\n",
       "  (drop1): Dropout(p=0.3, inplace=False)\n",
       "  (relu): ReLU()\n",
       "  (out): Linear(in_features=128, out_features=3, bias=True)\n",
       ")"
      ]
     },
     "execution_count": 47,
     "metadata": {},
     "output_type": "execute_result"
    }
   ],
   "source": [
    "checkpoint = torch.load('best_model.pt')\n",
    "\n",
    "model = SentimentClassifier3(len(class_levels))\n",
    "\n",
    "# Load the state dictionary into your model\n",
    "model.load_state_dict(checkpoint['model_state_dict'])\n",
    "\n",
    "model.to(device)"
   ]
  },
  {
   "cell_type": "code",
   "execution_count": 49,
   "id": "00d5db53-e96e-4564-a427-cedfad608cdd",
   "metadata": {},
   "outputs": [
    {
     "name": "stdout",
     "output_type": "stream",
     "text": [
      "Test accuracy: 0.8732474964234621\n"
     ]
    }
   ],
   "source": [
    "test_acc, _ = eval_model(\n",
    "  model,\n",
    "  test_data_loader,\n",
    "  loss_fn,\n",
    "  device,\n",
    "  len(df_testset)\n",
    ")\n",
    "\n",
    "print(f'Test accuracy: {test_acc}')"
   ]
  },
  {
   "cell_type": "code",
   "execution_count": 85,
   "id": "573e4a91-0a52-4dda-80ec-ec1fc9ed5979",
   "metadata": {},
   "outputs": [],
   "source": [
    "def make_preds(model, data_loader):\n",
    "  model = model.eval()\n",
    "  \n",
    "  input_texts = []\n",
    "  predictions = []\n",
    "  prediction_probs = []\n",
    "  correct_text_values = []\n",
    "    \n",
    "  with torch.no_grad():\n",
    "    for d in data_loader:\n",
    "      texts = d[\"review_text\"]\n",
    "      input_ids = d[\"input_ids\"].to(device)\n",
    "      attention_mask = d[\"attention_mask\"].to(device)\n",
    "      targets = d[\"targets\"].to(device)\n",
    "      outputs = model2(\n",
    "        input_ids=input_ids,\n",
    "        attention_mask=attention_mask\n",
    "      )\n",
    "      _, preds = torch.max(outputs, dim=1)\n",
    "      input_texts.extend(texts)\n",
    "      predictions.extend(preds)\n",
    "      prediction_probs.extend(outputs)\n",
    "      correct_text_values.extend(targets)\n",
    "  \n",
    "  predictions = torch.stack(predictions).cpu()\n",
    "  prediction_probs = torch.stack(prediction_probs).cpu()\n",
    "  correct_text_values = torch.stack(correct_text_values).cpu()\n",
    "  return input_texts, predictions, prediction_probs, correct_text_values"
   ]
  },
  {
   "cell_type": "code",
   "execution_count": 86,
   "id": "96aeafb1-5233-4a4d-823f-af7b14725879",
   "metadata": {},
   "outputs": [],
   "source": [
    "y_input_texts, y_pred, y_pred_probs, y_test = make_preds(\n",
    "  model,\n",
    "  test_data_loader\n",
    ")"
   ]
  },
  {
   "cell_type": "code",
   "execution_count": 87,
   "id": "b13a0a7d-f0c3-437b-9634-6271eca81b02",
   "metadata": {},
   "outputs": [
    {
     "name": "stdout",
     "output_type": "stream",
     "text": [
      "              precision    recall  f1-score   support\n",
      "\n",
      "    Negative       0.84      0.88      0.86      3145\n",
      "     Neutral       0.47      0.40      0.43      1416\n",
      "    Positive       0.93      0.94      0.94      9419\n",
      "\n",
      "    accuracy                           0.87     13980\n",
      "   macro avg       0.75      0.74      0.74     13980\n",
      "weighted avg       0.87      0.87      0.87     13980\n",
      "\n"
     ]
    }
   ],
   "source": [
    "from sklearn.metrics import classification_report,confusion_matrix\n",
    "print(classification_report(y_test, y_pred, target_names=class_levels))"
   ]
  },
  {
   "cell_type": "code",
   "execution_count": 88,
   "id": "62dcedfa-a02a-468e-8a85-e10b261e1614",
   "metadata": {},
   "outputs": [
    {
     "data": {
      "image/png": "[encoded data removed]",
      "text/plain": [
       "<Figure size 640x480 with 2 Axes>"
      ]
     },
     "metadata": {},
     "output_type": "display_data"
    }
   ],
   "source": [
    "def show_confusion_matrix(confusion_matrix):\n",
    "  hmap = sns.heatmap(confusion_matrix, annot=True, fmt=\"d\", cmap=\"Blues\")\n",
    "  hmap.yaxis.set_ticklabels(hmap.yaxis.get_ticklabels(), rotation=0, ha='right')\n",
    "  hmap.xaxis.set_ticklabels(hmap.xaxis.get_ticklabels(), rotation=30, ha='right')\n",
    "  plt.ylabel('True sentiment')\n",
    "  plt.xlabel('Predicted sentiment');\n",
    "cm = confusion_matrix(y_test, y_pred)\n",
    "df_cm = pd.DataFrame(cm, index=class_levels, columns=class_levels)\n",
    "show_confusion_matrix(df_cm)"
   ]
  },
  {
   "cell_type": "markdown",
   "id": "f42ef673-a9b5-41b9-8b18-42b008d8d418",
   "metadata": {},
   "source": [
    "The hyperparameters, including the hidden dimension and the number of attention layers, play a crucial role in shaping the behavior and performance of a Transformer-based model like BERT. \n",
    "\n",
    "**Hidden Dimension**:\n",
    "\n",
    "The hidden dimension (also referred to as the model dimension or embedding dimension) determines the size of the vector space in which the model represents words and sentences.\n",
    "A larger hidden dimension allows the model to capture more complex relationships and patterns in the data but comes with increased computational requirements.\n",
    "Smaller hidden dimensions may lead to a reduction in model capacity and the ability to capture nuanced features. \n",
    "\n",
    "The hidden dimension, or embedding dimension, of the BERT model we are using is 768.\n",
    "\n",
    "\n",
    "**Number of Attention Layers**:\n",
    "\n",
    "The number of attention layers defines how many self-attention layers are stacked in the Transformer model.\n",
    "A higher number of attention layers enables the model to capture long-range dependencies and relationships in the input sequence.\n",
    "However, increasing the number of attention layers also increases computational complexity, training time, and memory requirements.\n",
    "Too few attention layers may limit the model's ability to capture complex patterns in the data.\n",
    "\n",
    "Each BertLayer contains a BertAttention module, which, in turn, consists of a BertSelfAttention module for performing self-attention computations. This model consists of 12 BERT layers and thus there are 12 self attention layers in this model.\n",
    "\n",
    "Here we have not experimented with the number of attention layers in the Transformer model and not even with the number of hidden dimensions as the pre-trained BERT model has 768 hidden dimensions and 12 attention layers,  which is quite high and they give a very good prediction for sentiment analysis. Instead, we have changed the number of fully connected layers in the Transformer model and experimented with the dropout rate and the learning rate to achieve better accuracy and thus results."
   ]
  },
  {
   "cell_type": "markdown",
   "id": "c9f93c66-ba55-453d-b7fe-46cea5529afa",
   "metadata": {},
   "source": [
    "### Testing on sample texts"
   ]
  },
  {
   "cell_type": "markdown",
   "id": "e7cf10fd-d874-4906-872e-7ac29dffd7a3",
   "metadata": {},
   "source": [
    "#### Neutral Text"
   ]
  },
  {
   "cell_type": "code",
   "execution_count": 89,
   "id": "ec2b2eb6-da2d-485d-8501-28cfba88000c",
   "metadata": {},
   "outputs": [],
   "source": [
    "sample_input1 = \"Service was not good and not bad\""
   ]
  },
  {
   "cell_type": "code",
   "execution_count": 90,
   "id": "98148647-5781-4543-8df9-f682f2b16832",
   "metadata": {},
   "outputs": [
    {
     "name": "stderr",
     "output_type": "stream",
     "text": [
      "/scratch/user/shaunakjoshi/transformer/myenv/lib/python3.8/site-packages/transformers/tokenization_utils_base.py:2614: FutureWarning: The `pad_to_max_length` argument is deprecated and will be removed in a future version, use `padding=True` or `padding='longest'` to pad to the longest sequence in the batch, or use `padding='max_length'` to pad to a max length. In this case, you can give a specific length with `max_length` (e.g. `max_length=45`) or leave max_length to None to pad to the maximal input size of the model (e.g. 512 for Bert).\n",
      "  warnings.warn(\n"
     ]
    }
   ],
   "source": [
    "review_encoded1 = tokenizer.encode_plus(\n",
    "  sample_input1,\n",
    "  max_length=MAX_LEN,\n",
    "  add_special_tokens=True,\n",
    "  return_token_type_ids=False,\n",
    "  pad_to_max_length=True,\n",
    "  return_attention_mask=True,\n",
    "  return_tensors='pt',\n",
    ")"
   ]
  },
  {
   "cell_type": "code",
   "execution_count": 91,
   "id": "20cb3f5e-f83f-41f7-ba42-3d6416698405",
   "metadata": {},
   "outputs": [
    {
     "name": "stdout",
     "output_type": "stream",
     "text": [
      "Sample Input: Service was not good and not bad\n",
      "Sentiment  : Neutral\n"
     ]
    }
   ],
   "source": [
    "input_ids = review_encoded1['input_ids'].to(device)\n",
    "attention_mask = review_encoded1['attention_mask'].to(device)\n",
    "output = model(input_ids, attention_mask)\n",
    "_, prediction = torch.max(output, dim=1)\n",
    "print(f'Sample Input: {sample_input1}')\n",
    "print(f'Sentiment  : {class_levels[prediction]}')"
   ]
  },
  {
   "cell_type": "markdown",
   "id": "7dd7f5d3-dd21-4680-98b8-186efd63b789",
   "metadata": {},
   "source": [
    "#### Positive Text"
   ]
  },
  {
   "cell_type": "code",
   "execution_count": 92,
   "id": "35768497-3b11-4eea-b101-eb710c4868a4",
   "metadata": {},
   "outputs": [],
   "source": [
    "sample_input2 = \"The food was very delicious\""
   ]
  },
  {
   "cell_type": "code",
   "execution_count": 93,
   "id": "56aa9c35-fd61-4bb8-9aaf-a8a95210c822",
   "metadata": {},
   "outputs": [],
   "source": [
    "review_encoded2 = tokenizer.encode_plus(\n",
    "  sample_input2,\n",
    "  max_length=MAX_LEN,\n",
    "  add_special_tokens=True,\n",
    "  return_token_type_ids=False,\n",
    "  pad_to_max_length=True,\n",
    "  return_attention_mask=True,\n",
    "  return_tensors='pt',\n",
    ")"
   ]
  },
  {
   "cell_type": "code",
   "execution_count": 94,
   "id": "5de10f9e-cb0c-466d-8ee8-b683ef301354",
   "metadata": {},
   "outputs": [
    {
     "name": "stdout",
     "output_type": "stream",
     "text": [
      "Sample Input: The food was very delicious\n",
      "Sentiment  : Positive\n"
     ]
    }
   ],
   "source": [
    "input_ids = review_encoded2['input_ids'].to(device)\n",
    "attention_mask = review_encoded2['attention_mask'].to(device)\n",
    "output = model(input_ids, attention_mask)\n",
    "_, prediction = torch.max(output, dim=1)\n",
    "print(f'Sample Input: {sample_input2}')\n",
    "print(f'Sentiment  : {class_levels[prediction]}')"
   ]
  },
  {
   "cell_type": "markdown",
   "id": "dd858829-dd78-4a2f-b07c-ddcbf210105d",
   "metadata": {},
   "source": [
    "#### Negative Text"
   ]
  },
  {
   "cell_type": "code",
   "execution_count": 95,
   "id": "dac8038d-857d-4eb2-9fa3-65f694b9c631",
   "metadata": {},
   "outputs": [],
   "source": [
    "sample_input3 = \"Food was very bland and tasteless\""
   ]
  },
  {
   "cell_type": "code",
   "execution_count": 96,
   "id": "3c6e5c1f-d60b-438e-8097-fa73c9a58d96",
   "metadata": {},
   "outputs": [],
   "source": [
    "review_encoded3 = tokenizer.encode_plus(\n",
    "  sample_input3,\n",
    "  max_length=MAX_LEN,\n",
    "  add_special_tokens=True,\n",
    "  return_token_type_ids=False,\n",
    "  pad_to_max_length=True,\n",
    "  return_attention_mask=True,\n",
    "  return_tensors='pt',\n",
    ")"
   ]
  },
  {
   "cell_type": "code",
   "execution_count": 97,
   "id": "9fbb8f87-c935-4d29-8599-d98e68007168",
   "metadata": {},
   "outputs": [
    {
     "name": "stdout",
     "output_type": "stream",
     "text": [
      "Sample Input: Food was very bland and tasteless\n",
      "Sentiment  : Negative\n"
     ]
    }
   ],
   "source": [
    "input_ids = review_encoded3['input_ids'].to(device)\n",
    "attention_mask = review_encoded3['attention_mask'].to(device)\n",
    "output = model(input_ids, attention_mask)\n",
    "_, prediction = torch.max(output, dim=1)\n",
    "print(f'Sample Input: {sample_input3}')\n",
    "print(f'Sentiment  : {class_levels[prediction]}')"
   ]
  }
 ],
 "metadata": {
  "kernelspec": {
   "display_name": "Python 3 (ipykernel)",
   "language": "python",
   "name": "python3"
  },
  "language_info": {
   "codemirror_mode": {
    "name": "ipython",
    "version": 3
   },
   "file_extension": ".py",
   "mimetype": "text/x-python",
   "name": "python",
   "nbconvert_exporter": "python",
   "pygments_lexer": "ipython3",
   "version": "3.8.6"
  }
 },
 "nbformat": 4,
 "nbformat_minor": 5
}
